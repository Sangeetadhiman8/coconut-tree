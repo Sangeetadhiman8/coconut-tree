{
 "cells": [
  {
   "cell_type": "code",
   "execution_count": 1,
   "id": "e6ab025e-ab72-4342-9f6e-8bf911535a8f",
   "metadata": {
    "tags": []
   },
   "outputs": [
    {
     "data": {
      "text/plain": [
       "2"
      ]
     },
     "execution_count": 1,
     "metadata": {},
     "output_type": "execute_result"
    }
   ],
   "source": [
    "1+1"
   ]
  },
  {
   "cell_type": "code",
   "execution_count": 4,
   "id": "e2c78e7b-0ac6-4f90-b416-9aa929d68d55",
   "metadata": {},
   "outputs": [
    {
     "data": {
      "text/plain": [
       "4"
      ]
     },
     "execution_count": 4,
     "metadata": {},
     "output_type": "execute_result"
    }
   ],
   "source": [
    "2+2"
   ]
  },
  {
   "cell_type": "code",
   "execution_count": 6,
   "id": "f75f5476-5801-4af8-b40a-7ead85f31733",
   "metadata": {},
   "outputs": [
    {
     "data": {
      "text/plain": [
       "600000"
      ]
     },
     "execution_count": 6,
     "metadata": {},
     "output_type": "execute_result"
    }
   ],
   "source": [
    "50000*12"
   ]
  },
  {
   "cell_type": "markdown",
   "id": "befb9ae0-939a-4dd3-b38b-73105b7f8899",
   "metadata": {
    "tags": []
   },
   "source": [
    "My First Lab"
   ]
  },
  {
   "cell_type": "code",
   "execution_count": null,
   "id": "f5f60289-a80f-4193-9d1a-ccab86283f65",
   "metadata": {},
   "outputs": [],
   "source": []
  },
  {
   "cell_type": "code",
   "execution_count": null,
   "id": "257f4fcc-e78f-4ebf-b9e4-aac757dee13b",
   "metadata": {},
   "outputs": [],
   "source": []
  }
 ],
 "metadata": {
  "kernelspec": {
   "display_name": "Python",
   "language": "python",
   "name": "conda-env-python-py"
  },
  "language_info": {
   "codemirror_mode": {
    "name": "ipython",
    "version": 3
   },
   "file_extension": ".py",
   "mimetype": "text/x-python",
   "name": "python",
   "nbconvert_exporter": "python",
   "pygments_lexer": "ipython3",
   "version": "3.6.13"
  }
 },
 "nbformat": 4,
 "nbformat_minor": 5
}
